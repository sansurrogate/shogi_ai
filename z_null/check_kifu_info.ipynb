{
 "cells": [
  {
   "cell_type": "code",
   "execution_count": 1,
   "id": "b6029bc7-bfb9-4723-b612-e3a4eb5be56e",
   "metadata": {},
   "outputs": [],
   "source": [
    "import os\n",
    "import pandas as pd\n",
    "import matplotlib.pyplot as plt"
   ]
  },
  {
   "cell_type": "code",
   "execution_count": 2,
   "id": "3708ba5e-12a1-4b43-b7d2-355e8168746a",
   "metadata": {},
   "outputs": [
    {
     "data": {
      "text/html": [
       "<div>\n",
       "<style scoped>\n",
       "    .dataframe tbody tr th:only-of-type {\n",
       "        vertical-align: middle;\n",
       "    }\n",
       "\n",
       "    .dataframe tbody tr th {\n",
       "        vertical-align: top;\n",
       "    }\n",
       "\n",
       "    .dataframe thead th {\n",
       "        text-align: right;\n",
       "    }\n",
       "</style>\n",
       "<table border=\"1\" class=\"dataframe\">\n",
       "  <thead>\n",
       "    <tr style=\"text-align: right;\">\n",
       "      <th></th>\n",
       "      <th>filename</th>\n",
       "      <th>move_len</th>\n",
       "      <th>toryo</th>\n",
       "      <th>rate_black</th>\n",
       "      <th>rate_white</th>\n",
       "    </tr>\n",
       "  </thead>\n",
       "  <tbody>\n",
       "    <tr>\n",
       "      <th>0</th>\n",
       "      <td>/Users/JP26965/private/shogi_ai/data/kifu_csa/2017/wdoor+floodgate-300-10F+sg_test03a+Shocking_Blue_Incinerator+20171123113007.csa</td>\n",
       "      <td>151</td>\n",
       "      <td>True</td>\n",
       "      <td>3315.0</td>\n",
       "      <td>NaN</td>\n",
       "    </tr>\n",
       "    <tr>\n",
       "      <th>1</th>\n",
       "      <td>/Users/JP26965/private/shogi_ai/data/kifu_csa/2017/wdoor+floodgate-300-10F+yy0802_raspi3+Sunfish4-AWS07+20171021133003.csa</td>\n",
       "      <td>68</td>\n",
       "      <td>True</td>\n",
       "      <td>2874.0</td>\n",
       "      <td>2431.0</td>\n",
       "    </tr>\n",
       "    <tr>\n",
       "      <th>2</th>\n",
       "      <td>/Users/JP26965/private/shogi_ai/data/kifu_csa/2017/wdoor+floodgate-300-10F+Ganbaruby_tamore_4c+YssCNN_F128L12_a48+20171024040004.csa</td>\n",
       "      <td>74</td>\n",
       "      <td>True</td>\n",
       "      <td>NaN</td>\n",
       "      <td>1476.0</td>\n",
       "    </tr>\n",
       "    <tr>\n",
       "      <th>3</th>\n",
       "      <td>/Users/JP26965/private/shogi_ai/data/kifu_csa/2017/wdoor+floodgate-300-10F+ShogiNet_withE+test-N1000+20170525040003.csa</td>\n",
       "      <td>194</td>\n",
       "      <td>True</td>\n",
       "      <td>1638.0</td>\n",
       "      <td>2180.0</td>\n",
       "    </tr>\n",
       "    <tr>\n",
       "      <th>4</th>\n",
       "      <td>/Users/JP26965/private/shogi_ai/data/kifu_csa/2017/wdoor+floodgate-300-10F+Titanda_L+Ukamuse_SeoTsume_NB9_i5-3317U+20170414020001.csa</td>\n",
       "      <td>156</td>\n",
       "      <td>True</td>\n",
       "      <td>3584.0</td>\n",
       "      <td>3408.0</td>\n",
       "    </tr>\n",
       "  </tbody>\n",
       "</table>\n",
       "</div>"
      ],
      "text/plain": [
       "                                                                                                                                filename  \\\n",
       "0     /Users/JP26965/private/shogi_ai/data/kifu_csa/2017/wdoor+floodgate-300-10F+sg_test03a+Shocking_Blue_Incinerator+20171123113007.csa   \n",
       "1             /Users/JP26965/private/shogi_ai/data/kifu_csa/2017/wdoor+floodgate-300-10F+yy0802_raspi3+Sunfish4-AWS07+20171021133003.csa   \n",
       "2   /Users/JP26965/private/shogi_ai/data/kifu_csa/2017/wdoor+floodgate-300-10F+Ganbaruby_tamore_4c+YssCNN_F128L12_a48+20171024040004.csa   \n",
       "3                /Users/JP26965/private/shogi_ai/data/kifu_csa/2017/wdoor+floodgate-300-10F+ShogiNet_withE+test-N1000+20170525040003.csa   \n",
       "4  /Users/JP26965/private/shogi_ai/data/kifu_csa/2017/wdoor+floodgate-300-10F+Titanda_L+Ukamuse_SeoTsume_NB9_i5-3317U+20170414020001.csa   \n",
       "\n",
       "   move_len  toryo  rate_black  rate_white  \n",
       "0       151   True      3315.0         NaN  \n",
       "1        68   True      2874.0      2431.0  \n",
       "2        74   True         NaN      1476.0  \n",
       "3       194   True      1638.0      2180.0  \n",
       "4       156   True      3584.0      3408.0  "
      ]
     },
     "execution_count": 2,
     "metadata": {},
     "output_type": "execute_result"
    }
   ],
   "source": [
    "pd.set_option('display.max_colwidth', None)\n",
    "pd_kifu_info = pd.read_pickle(\"../data/dataset_information/kifu_info.pickle\")\n",
    "pd_kifu_info.head()"
   ]
  },
  {
   "cell_type": "code",
   "execution_count": 3,
   "id": "6bc0c216-eb5c-41cb-bb06-ad28fcdb9ea8",
   "metadata": {},
   "outputs": [
    {
     "data": {
      "text/html": [
       "<div>\n",
       "<style scoped>\n",
       "    .dataframe tbody tr th:only-of-type {\n",
       "        vertical-align: middle;\n",
       "    }\n",
       "\n",
       "    .dataframe tbody tr th {\n",
       "        vertical-align: top;\n",
       "    }\n",
       "\n",
       "    .dataframe thead th {\n",
       "        text-align: right;\n",
       "    }\n",
       "</style>\n",
       "<table border=\"1\" class=\"dataframe\">\n",
       "  <thead>\n",
       "    <tr style=\"text-align: right;\">\n",
       "      <th></th>\n",
       "      <th>filename</th>\n",
       "      <th>move_len</th>\n",
       "      <th>toryo</th>\n",
       "      <th>rate_black</th>\n",
       "      <th>rate_white</th>\n",
       "      <th>high_quality</th>\n",
       "    </tr>\n",
       "  </thead>\n",
       "  <tbody>\n",
       "    <tr>\n",
       "      <th>4</th>\n",
       "      <td>/Users/JP26965/private/shogi_ai/data/kifu_csa/2017/wdoor+floodgate-300-10F+Titanda_L+Ukamuse_SeoTsume_NB9_i5-3317U+20170414020001.csa</td>\n",
       "      <td>156</td>\n",
       "      <td>True</td>\n",
       "      <td>3584.0</td>\n",
       "      <td>3408.0</td>\n",
       "      <td>True</td>\n",
       "    </tr>\n",
       "    <tr>\n",
       "      <th>6</th>\n",
       "      <td>/Users/JP26965/private/shogi_ai/data/kifu_csa/2017/wdoor+floodgate-300-10F+SILENT_MAJORITY_1.25_6950X+SM1.25_nb11_i7-3517U+20170505080002.csa</td>\n",
       "      <td>188</td>\n",
       "      <td>True</td>\n",
       "      <td>3671.0</td>\n",
       "      <td>3269.0</td>\n",
       "      <td>True</td>\n",
       "    </tr>\n",
       "    <tr>\n",
       "      <th>7</th>\n",
       "      <td>/Users/JP26965/private/shogi_ai/data/kifu_csa/2017/wdoor+floodgate-300-10F+Yss1000k+Heboshogi+20170920203011.csa</td>\n",
       "      <td>103</td>\n",
       "      <td>True</td>\n",
       "      <td>2578.0</td>\n",
       "      <td>3238.0</td>\n",
       "      <td>True</td>\n",
       "    </tr>\n",
       "    <tr>\n",
       "      <th>14</th>\n",
       "      <td>/Users/JP26965/private/shogi_ai/data/kifu_csa/2017/wdoor+floodgate-300-10F+furibisya_terzo+gpsfish_normal_1c+20170907213008.csa</td>\n",
       "      <td>164</td>\n",
       "      <td>True</td>\n",
       "      <td>3597.0</td>\n",
       "      <td>2800.0</td>\n",
       "      <td>True</td>\n",
       "    </tr>\n",
       "    <tr>\n",
       "      <th>19</th>\n",
       "      <td>/Users/JP26965/private/shogi_ai/data/kifu_csa/2017/wdoor+floodgate-300-10F+yaselmo_testeval_2c+gikou2_i5-560M+20170913040008.csa</td>\n",
       "      <td>96</td>\n",
       "      <td>True</td>\n",
       "      <td>3712.0</td>\n",
       "      <td>3409.0</td>\n",
       "      <td>True</td>\n",
       "    </tr>\n",
       "  </tbody>\n",
       "</table>\n",
       "</div>"
      ],
      "text/plain": [
       "                                                                                                                                         filename  \\\n",
       "4           /Users/JP26965/private/shogi_ai/data/kifu_csa/2017/wdoor+floodgate-300-10F+Titanda_L+Ukamuse_SeoTsume_NB9_i5-3317U+20170414020001.csa   \n",
       "6   /Users/JP26965/private/shogi_ai/data/kifu_csa/2017/wdoor+floodgate-300-10F+SILENT_MAJORITY_1.25_6950X+SM1.25_nb11_i7-3517U+20170505080002.csa   \n",
       "7                                /Users/JP26965/private/shogi_ai/data/kifu_csa/2017/wdoor+floodgate-300-10F+Yss1000k+Heboshogi+20170920203011.csa   \n",
       "14                /Users/JP26965/private/shogi_ai/data/kifu_csa/2017/wdoor+floodgate-300-10F+furibisya_terzo+gpsfish_normal_1c+20170907213008.csa   \n",
       "19               /Users/JP26965/private/shogi_ai/data/kifu_csa/2017/wdoor+floodgate-300-10F+yaselmo_testeval_2c+gikou2_i5-560M+20170913040008.csa   \n",
       "\n",
       "    move_len  toryo  rate_black  rate_white  high_quality  \n",
       "4        156   True      3584.0      3408.0          True  \n",
       "6        188   True      3671.0      3269.0          True  \n",
       "7        103   True      2578.0      3238.0          True  \n",
       "14       164   True      3597.0      2800.0          True  \n",
       "19        96   True      3712.0      3409.0          True  "
      ]
     },
     "execution_count": 3,
     "metadata": {},
     "output_type": "execute_result"
    }
   ],
   "source": [
    "pd_kifu_info[\"high_quality\"] = pd_kifu_info.apply(\n",
    "    lambda x: (\n",
    "        x[\"move_len\"] > 50\n",
    "        and x[\"toryo\"]\n",
    "        and x.get(\"rate_black\", 0) >= 2500\n",
    "        and x.get(\"rate_white\", 0) >= 2500\n",
    "    ),\n",
    "    axis=1,\n",
    ")\n",
    "\n",
    "pd_kifu_info[pd_kifu_info[\"high_quality\"]].head()"
   ]
  },
  {
   "cell_type": "code",
   "execution_count": 4,
   "id": "b8f949b7-780d-4087-8c09-2d87de463349",
   "metadata": {},
   "outputs": [
    {
     "data": {
      "text/html": [
       "<div>\n",
       "<style scoped>\n",
       "    .dataframe tbody tr th:only-of-type {\n",
       "        vertical-align: middle;\n",
       "    }\n",
       "\n",
       "    .dataframe tbody tr th {\n",
       "        vertical-align: top;\n",
       "    }\n",
       "\n",
       "    .dataframe thead th {\n",
       "        text-align: right;\n",
       "    }\n",
       "</style>\n",
       "<table border=\"1\" class=\"dataframe\">\n",
       "  <thead>\n",
       "    <tr style=\"text-align: right;\">\n",
       "      <th></th>\n",
       "      <th>move_len</th>\n",
       "      <th>rate_black</th>\n",
       "      <th>rate_white</th>\n",
       "    </tr>\n",
       "  </thead>\n",
       "  <tbody>\n",
       "    <tr>\n",
       "      <th>count</th>\n",
       "      <td>155386.000000</td>\n",
       "      <td>129929.000000</td>\n",
       "      <td>129986.000000</td>\n",
       "    </tr>\n",
       "    <tr>\n",
       "      <th>mean</th>\n",
       "      <td>117.519487</td>\n",
       "      <td>2761.133527</td>\n",
       "      <td>2759.983998</td>\n",
       "    </tr>\n",
       "    <tr>\n",
       "      <th>std</th>\n",
       "      <td>48.635395</td>\n",
       "      <td>628.681402</td>\n",
       "      <td>627.727382</td>\n",
       "    </tr>\n",
       "    <tr>\n",
       "      <th>min</th>\n",
       "      <td>1.000000</td>\n",
       "      <td>-4540.000000</td>\n",
       "      <td>-4540.000000</td>\n",
       "    </tr>\n",
       "    <tr>\n",
       "      <th>25%</th>\n",
       "      <td>90.000000</td>\n",
       "      <td>2347.000000</td>\n",
       "      <td>2346.000000</td>\n",
       "    </tr>\n",
       "    <tr>\n",
       "      <th>50%</th>\n",
       "      <td>116.000000</td>\n",
       "      <td>2805.000000</td>\n",
       "      <td>2800.000000</td>\n",
       "    </tr>\n",
       "    <tr>\n",
       "      <th>75%</th>\n",
       "      <td>145.000000</td>\n",
       "      <td>3214.000000</td>\n",
       "      <td>3213.000000</td>\n",
       "    </tr>\n",
       "    <tr>\n",
       "      <th>max</th>\n",
       "      <td>257.000000</td>\n",
       "      <td>9630.000000</td>\n",
       "      <td>9630.000000</td>\n",
       "    </tr>\n",
       "  </tbody>\n",
       "</table>\n",
       "</div>"
      ],
      "text/plain": [
       "            move_len     rate_black     rate_white\n",
       "count  155386.000000  129929.000000  129986.000000\n",
       "mean      117.519487    2761.133527    2759.983998\n",
       "std        48.635395     628.681402     627.727382\n",
       "min         1.000000   -4540.000000   -4540.000000\n",
       "25%        90.000000    2347.000000    2346.000000\n",
       "50%       116.000000    2805.000000    2800.000000\n",
       "75%       145.000000    3214.000000    3213.000000\n",
       "max       257.000000    9630.000000    9630.000000"
      ]
     },
     "execution_count": 4,
     "metadata": {},
     "output_type": "execute_result"
    }
   ],
   "source": [
    "pd_kifu_info[[\"move_len\", \"rate_black\", \"rate_white\"]].describe()"
   ]
  },
  {
   "cell_type": "code",
   "execution_count": 5,
   "id": "db90cab6-342e-4ed1-9a08-587eb7be5046",
   "metadata": {},
   "outputs": [
    {
     "data": {
      "image/png": "[encoded data removed]",
      "text/plain": [
       "<Figure size 432x288 with 1 Axes>"
      ]
     },
     "metadata": {
      "needs_background": "light"
     },
     "output_type": "display_data"
    }
   ],
   "source": [
    "plt.hist(pd_kifu_info[\"move_len\"], bins=100)\n",
    "plt.show()"
   ]
  },
  {
   "cell_type": "code",
   "execution_count": 6,
   "id": "363fd1b9-5f78-41f8-8680-fa0fe1be8741",
   "metadata": {},
   "outputs": [
    {
     "data": {
      "image/png": "[encoded data removed]",
      "text/plain": [
       "<Figure size 432x288 with 1 Axes>"
      ]
     },
     "metadata": {
      "needs_background": "light"
     },
     "output_type": "display_data"
    }
   ],
   "source": [
    "plt.hist(pd_kifu_info[\"rate_black\"], bins=100)\n",
    "plt.show()"
   ]
  },
  {
   "cell_type": "code",
   "execution_count": 7,
   "id": "597f54b1-8d58-456f-8009-049f11e34d3e",
   "metadata": {},
   "outputs": [
    {
     "data": {
      "image/png": "[encoded data removed]",
      "text/plain": [
       "<Figure size 432x288 with 1 Axes>"
      ]
     },
     "metadata": {
      "needs_background": "light"
     },
     "output_type": "display_data"
    }
   ],
   "source": [
    "plt.hist(pd_kifu_info[\"rate_white\"], bins=100)\n",
    "plt.show()"
   ]
  }
 ],
 "metadata": {
  "kernelspec": {
   "display_name": "Python 3",
   "language": "python",
   "name": "python3"
  },
  "language_info": {
   "codemirror_mode": {
    "name": "ipython",
    "version": 3
   },
   "file_extension": ".py",
   "mimetype": "text/x-python",
   "name": "python",
   "nbconvert_exporter": "python",
   "pygments_lexer": "ipython3",
   "version": "3.9.5"
  }
 },
 "nbformat": 4,
 "nbformat_minor": 5
}
