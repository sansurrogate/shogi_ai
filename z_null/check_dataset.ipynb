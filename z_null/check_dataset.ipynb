{
 "cells": [
  {
   "cell_type": "code",
   "execution_count": 2,
   "id": "c6954b01-1b97-40db-8424-ddd4e246bc2c",
   "metadata": {},
   "outputs": [
    {
     "data": {
      "text/plain": [
       "['/Users/JP26965/private/shogi_ai/data/kifu_csa/2017/wdoor+floodgate-300-10F+Titanda_L+Ukamuse_SeoTsume_NB9_i5-3317U+20170414020001.csa',\n",
       " '/Users/JP26965/private/shogi_ai/data/kifu_csa/2017/wdoor+floodgate-300-10F+SILENT_MAJORITY_1.25_6950X+SM1.25_nb11_i7-3517U+20170505080002.csa',\n",
       " '/Users/JP26965/private/shogi_ai/data/kifu_csa/2017/wdoor+floodgate-300-10F+Yss1000k+Heboshogi+20170920203011.csa',\n",
       " '/Users/JP26965/private/shogi_ai/data/kifu_csa/2017/wdoor+floodgate-300-10F+furibisya_terzo+gpsfish_normal_1c+20170907213008.csa',\n",
       " '/Users/JP26965/private/shogi_ai/data/kifu_csa/2017/wdoor+floodgate-300-10F+yaselmo_testeval_2c+gikou2_i5-560M+20170913040008.csa',\n",
       " '/Users/JP26965/private/shogi_ai/data/kifu_csa/2017/wdoor+floodgate-300-10F+elmoYomita_i5_2450M+gpsfish_normal_1c+20170519063001.csa',\n",
       " '/Users/JP26965/private/shogi_ai/data/kifu_csa/2017/wdoor+floodgate-300-10F+i5_460M+Gikou2_elmoEvMix_i5_2450M+20170522210010.csa',\n",
       " '/Users/JP26965/private/shogi_ai/data/kifu_csa/2017/wdoor+floodgate-300-10F+Curry+tamore_gk_ryzen+20171029140005.csa',\n",
       " '/Users/JP26965/private/shogi_ai/data/kifu_csa/2017/wdoor+floodgate-300-10F+LIFEBOOK_AH33J+yaselmo_testeval_2c+20170914233012.csa',\n",
       " '/Users/JP26965/private/shogi_ai/data/kifu_csa/2017/wdoor+floodgate-300-10F+test_cortex-A53_4c+persona+20170226173006.csa']"
      ]
     },
     "execution_count": 2,
     "metadata": {},
     "output_type": "execute_result"
    }
   ],
   "source": [
    "import pickle\n",
    "\n",
    "with open(\"../data/dataset_information/kifulist_train.pickle\", \"rb\") as f:\n",
    "    kifulist_train = pickle.load(f)\n",
    "    \n",
    "kifulist_train[:10]"
   ]
  },
  {
   "cell_type": "code",
   "execution_count": 5,
   "id": "c60d5fa0-d656-40bb-8e8d-ce31770a93f0",
   "metadata": {},
   "outputs": [
    {
     "data": {
      "text/plain": [
       "11"
      ]
     },
     "execution_count": 5,
     "metadata": {},
     "output_type": "execute_result"
    }
   ],
   "source": [
    "import operator\n",
    "from functools import reduce\n",
    "reduce(\n",
    "        lambda x, y: x | y,\n",
    "        [1, 3, 8],\n",
    "        0\n",
    "    )"
   ]
  },
  {
   "cell_type": "code",
   "execution_count": 6,
   "id": "d36f1cec-4b83-4231-b23b-94a11c4618c2",
   "metadata": {},
   "outputs": [
    {
     "data": {
      "text/plain": [
       "11"
      ]
     },
     "execution_count": 6,
     "metadata": {},
     "output_type": "execute_result"
    }
   ],
   "source": [
    "1 | 3 | 8"
   ]
  }
 ],
 "metadata": {
  "kernelspec": {
   "display_name": "Python 3",
   "language": "python",
   "name": "python3"
  },
  "language_info": {
   "codemirror_mode": {
    "name": "ipython",
    "version": 3
   },
   "file_extension": ".py",
   "mimetype": "text/x-python",
   "name": "python",
   "nbconvert_exporter": "python",
   "pygments_lexer": "ipython3",
   "version": "3.9.5"
  }
 },
 "nbformat": 4,
 "nbformat_minor": 5
}
