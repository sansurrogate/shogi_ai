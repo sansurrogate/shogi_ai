{
 "cells": [
  {
   "cell_type": "code",
   "execution_count": 1,
   "id": "205dd0fd-2655-4793-b9e6-a6c00ab328f8",
   "metadata": {},
   "outputs": [],
   "source": [
    "import shogi\n",
    "from shogi import CSA"
   ]
  },
  {
   "cell_type": "code",
   "execution_count": 2,
   "id": "76523c4e-416d-42ec-a338-16d019f2ee2a",
   "metadata": {},
   "outputs": [
    {
     "data": {
      "text/plain": [
       "{'names': ['sg_test03a', 'Shocking_Blue_Incinerator'],\n",
       " 'sfen': 'lnsgkgsnl/1r5b1/ppppppppp/9/9/9/PPPPPPPPP/1B5R1/LNSGKGSNL b - 1',\n",
       " 'moves': ['7g7f',\n",
       "  '3c3d',\n",
       "  '2g2f',\n",
       "  '5c5d',\n",
       "  '2f2e',\n",
       "  '8b5b',\n",
       "  '3i4h',\n",
       "  '5d5e',\n",
       "  '5i6h',\n",
       "  '2b3c',\n",
       "  '3g3f',\n",
       "  '5a6b',\n",
       "  '4h3g',\n",
       "  '6b7b',\n",
       "  '3g4f',\n",
       "  '7b8b',\n",
       "  '6h7h',\n",
       "  '7a7b',\n",
       "  '7i6h',\n",
       "  '3a4b',\n",
       "  '4f4e',\n",
       "  '4a3b',\n",
       "  '4e3d',\n",
       "  '3c4d',\n",
       "  '2e2d',\n",
       "  '2c2d',\n",
       "  '2h2d',\n",
       "  'P*2b',\n",
       "  '2d2h',\n",
       "  '5e5f',\n",
       "  '8h4d',\n",
       "  '4c4d',\n",
       "  '5g5f',\n",
       "  'B*6d',\n",
       "  '2h1h',\n",
       "  '9c9d',\n",
       "  '9g9f',\n",
       "  '5b5c',\n",
       "  '6g6f',\n",
       "  '3b2c',\n",
       "  '6f6e',\n",
       "  '6d1i+',\n",
       "  '1h1i',\n",
       "  '2c3d',\n",
       "  'B*7e',\n",
       "  '6c6d',\n",
       "  '6e6d',\n",
       "  'L*6b',\n",
       "  '1i1h',\n",
       "  '5c2c',\n",
       "  'P*2h',\n",
       "  '3d4e',\n",
       "  'B*3b',\n",
       "  '4e5f',\n",
       "  'P*5g',\n",
       "  '5f4g',\n",
       "  '7h8h',\n",
       "  'P*5b',\n",
       "  '9f9e',\n",
       "  '9d9e',\n",
       "  '3b2a+',\n",
       "  '7c7d',\n",
       "  '2a6e',\n",
       "  '7d7e',\n",
       "  'N*7d',\n",
       "  '8b7a',\n",
       "  '6e4g',\n",
       "  'S*7c',\n",
       "  '7d6b+',\n",
       "  '6a6b',\n",
       "  'L*6f',\n",
       "  'P*6e',\n",
       "  '4g6e',\n",
       "  '4b5c',\n",
       "  '6e5f',\n",
       "  'B*4e',\n",
       "  '5f4g',\n",
       "  'P*3e',\n",
       "  'G*4f',\n",
       "  '4e5d',\n",
       "  '4g5f',\n",
       "  '7e7f',\n",
       "  'P*7d',\n",
       "  '7c6d',\n",
       "  '6f6d',\n",
       "  '5c6d',\n",
       "  'S*5e',\n",
       "  '7b6c',\n",
       "  '5e5d',\n",
       "  '6c5d',\n",
       "  'B*3b',\n",
       "  '2c5c',\n",
       "  'P*9b',\n",
       "  '9a9b',\n",
       "  '3b5d+',\n",
       "  '5c5d',\n",
       "  'S*5e',\n",
       "  'L*5c',\n",
       "  '5e5d',\n",
       "  '5c5d',\n",
       "  'P*6c',\n",
       "  '6b6c',\n",
       "  '5f6g',\n",
       "  'S*6e',\n",
       "  '5g5f',\n",
       "  'N*7e',\n",
       "  '6g5g',\n",
       "  'P*6g',\n",
       "  '6h6g',\n",
       "  '7e6g+',\n",
       "  '5g6g',\n",
       "  'B*6f',\n",
       "  '8h7i',\n",
       "  '6f9i+',\n",
       "  'R*5a',\n",
       "  '7a8b',\n",
       "  '4i5h',\n",
       "  'L*6f',\n",
       "  'P*9c',\n",
       "  '9b9c',\n",
       "  '6i7h',\n",
       "  '6f6g+',\n",
       "  '5h6g',\n",
       "  'S*9h',\n",
       "  '2h2g',\n",
       "  '9h8i',\n",
       "  '5a5b+',\n",
       "  'P*6b',\n",
       "  '7h8h',\n",
       "  '9i8h',\n",
       "  '7i6i',\n",
       "  '8h7i',\n",
       "  '6i5i',\n",
       "  '7i4f',\n",
       "  'P*4g',\n",
       "  '4f4g',\n",
       "  '7d7c+',\n",
       "  '6d7c',\n",
       "  'N*7d',\n",
       "  '6e7d',\n",
       "  '6g6h',\n",
       "  'G*3i',\n",
       "  'L*5h',\n",
       "  'N*5g',\n",
       "  '6h5g',\n",
       "  'B*7g',\n",
       "  'N*6h',\n",
       "  'G*4i',\n",
       "  '5i6i',\n",
       "  'S*7h'],\n",
       " 'win': 'w'}"
      ]
     },
     "execution_count": 2,
     "metadata": {},
     "output_type": "execute_result"
    }
   ],
   "source": [
    "path = \"/Users/JP26965/private/shogi_ai/data/kifu_csa/2017/wdoor+floodgate-300-10F+sg_test03a+Shocking_Blue_Incinerator+20171123113007.csa\"\n",
    "kifu = shogi.CSA.Parser.parse_file(path)[0]\n",
    "kifu"
   ]
  },
  {
   "cell_type": "code",
   "execution_count": 3,
   "id": "263497a6-ea76-4310-a569-52a057b81f76",
   "metadata": {},
   "outputs": [],
   "source": [
    "board = shogi.Board()\n",
    "for idx, move in enumerate(kifu['moves']):\n",
    "    board.push_usi(move)"
   ]
  },
  {
   "cell_type": "code",
   "execution_count": 4,
   "id": "1a1380ab-906b-4a86-b2ff-9fe47b443240",
   "metadata": {},
   "outputs": [
    {
     "data": {
      "text/plain": [
       "7098524613128195808"
      ]
     },
     "execution_count": 4,
     "metadata": {},
     "output_type": "execute_result"
    }
   ],
   "source": [
    "board.zobrist_hash()"
   ]
  },
  {
   "cell_type": "code",
   "execution_count": 9,
   "id": "e663efec-581a-4712-bf6e-b7497afa054e",
   "metadata": {},
   "outputs": [
    {
     "data": {
      "text/plain": [
       "8"
      ]
     },
     "execution_count": 9,
     "metadata": {},
     "output_type": "execute_result"
    }
   ],
   "source": [
    "from functools import reduce\n",
    "import operator\n",
    "x = [1, 3, 4]\n",
    "reduce(operator.add, x)"
   ]
  },
  {
   "cell_type": "code",
   "execution_count": null,
   "id": "5ac25792-4239-487c-b7b2-c18ae47129b9",
   "metadata": {},
   "outputs": [],
   "source": []
  },
  {
   "cell_type": "code",
   "execution_count": 6,
   "id": "905b761d-39be-4ae0-8a7e-95b2c9123663",
   "metadata": {},
   "outputs": [
    {
     "data": {
      "text/plain": [
       "[1, 2, 3, 4, 5, 6]"
      ]
     },
     "execution_count": 6,
     "metadata": {},
     "output_type": "execute_result"
    }
   ],
   "source": [
    "[1, 2, 3] + [4, 5, 6]"
   ]
  },
  {
   "cell_type": "code",
   "execution_count": 7,
   "id": "5199b390-812a-4766-840c-291713b5664c",
   "metadata": {},
   "outputs": [
    {
     "data": {
      "text/plain": [
       "array([[1., 1., 1., 1., 1., 1., 1., 1., 1.],\n",
       "       [1., 1., 1., 1., 1., 1., 1., 1., 1.],\n",
       "       [1., 1., 1., 1., 1., 1., 1., 1., 1.],\n",
       "       [1., 1., 1., 1., 1., 1., 1., 1., 1.],\n",
       "       [1., 1., 1., 1., 1., 1., 1., 1., 1.],\n",
       "       [1., 1., 1., 1., 1., 1., 1., 1., 1.],\n",
       "       [1., 1., 1., 1., 1., 1., 1., 1., 1.],\n",
       "       [1., 1., 1., 1., 1., 1., 1., 1., 1.],\n",
       "       [1., 1., 1., 1., 1., 1., 1., 1., 1.]])"
      ]
     },
     "execution_count": 7,
     "metadata": {},
     "output_type": "execute_result"
    }
   ],
   "source": [
    "import numpy as np\n",
    "np.ones((9, 9))"
   ]
  },
  {
   "cell_type": "code",
   "execution_count": 16,
   "id": "9de56939-8074-4284-911e-d1e5be216064",
   "metadata": {},
   "outputs": [
    {
     "data": {
      "text/plain": [
       "tensor([[1., 1., 1.],\n",
       "        [1., 1., 1.]])"
      ]
     },
     "execution_count": 16,
     "metadata": {},
     "output_type": "execute_result"
    }
   ],
   "source": [
    "import torch\n",
    "import torch.nn as nn\n",
    "input = torch.ones(2, 3)\n",
    "input"
   ]
  },
  {
   "cell_type": "code",
   "execution_count": 22,
   "id": "e8c3cf2f-9af1-4970-8c66-3d4da391ae59",
   "metadata": {},
   "outputs": [
    {
     "data": {
      "text/plain": [
       "tensor([[-0.6931, -0.6931, -0.6931],\n",
       "        [-0.6931, -0.6931, -0.6931]])"
      ]
     },
     "execution_count": 22,
     "metadata": {},
     "output_type": "execute_result"
    }
   ],
   "source": [
    "m = nn.LogSoftmax(dim=0)\n",
    "output = m(input)\n",
    "output"
   ]
  },
  {
   "cell_type": "code",
   "execution_count": 20,
   "id": "2d5a99fb-0deb-47d6-a8cc-a8853ce534f0",
   "metadata": {},
   "outputs": [
    {
     "data": {
      "text/plain": [
       "tensor([2.9743])"
      ]
     },
     "execution_count": 20,
     "metadata": {},
     "output_type": "execute_result"
    }
   ],
   "source": [
    "torch.exp(torch.tensor([1.09]))"
   ]
  },
  {
   "cell_type": "code",
   "execution_count": 23,
   "id": "8f4233d9-d7e5-4870-b4a4-b14557da25a6",
   "metadata": {},
   "outputs": [
    {
     "data": {
      "text/plain": [
       "tensor([1.9999])"
      ]
     },
     "execution_count": 23,
     "metadata": {},
     "output_type": "execute_result"
    }
   ],
   "source": [
    "torch.exp(torch.tensor([0.6931]))"
   ]
  }
 ],
 "metadata": {
  "kernelspec": {
   "display_name": "Python 3",
   "language": "python",
   "name": "python3"
  },
  "language_info": {
   "codemirror_mode": {
    "name": "ipython",
    "version": 3
   },
   "file_extension": ".py",
   "mimetype": "text/x-python",
   "name": "python",
   "nbconvert_exporter": "python",
   "pygments_lexer": "ipython3",
   "version": "3.9.5"
  }
 },
 "nbformat": 4,
 "nbformat_minor": 5
}
